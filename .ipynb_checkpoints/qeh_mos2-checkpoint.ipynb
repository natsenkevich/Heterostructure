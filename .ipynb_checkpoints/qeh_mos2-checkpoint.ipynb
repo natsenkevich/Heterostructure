{
 "cells": [
  {
   "cell_type": "code",
   "execution_count": 8,
   "metadata": {},
   "outputs": [
    {
     "data": {
      "image/png": "[encoded data removed]",
      "text/plain": [
       "<Figure size 432x288 with 1 Axes>"
      ]
     },
     "metadata": {
      "needs_background": "light"
     },
     "output_type": "display_data"
    }
   ],
   "source": [
    "import numpy as np\n",
    "import matplotlib.pyplot as plt\n",
    "from gpaw.response.qeh import Heterostructure\n",
    "from gpaw.response.qeh import interpolate_building_blocks\n",
    "%matplotlib inline\n",
    "\n",
    "#interpolate_building_blocks(BBfiles=['MoS2'], BBmotherfile='WSe2')\n",
    "\n",
    "\n",
    "thick_MoS2 = 6.21\n",
    "#thick_WSe2 = 6.718\n",
    "\n",
    "#d_MoS2_WSe2 = (thick_MoS2 + thick_WSe2) / 2\n",
    "#inter_mass = 0.244\n",
    "\n",
    "\n",
    "HS = Heterostructure(structure=['H-MoS2'],\n",
    "                     d=thick_MoS2,\n",
    "                     include_dipole=True,\n",
    "                     #qmax=None,\n",
    "                     wmax=0,\n",
    "                     d0=thick_MoS2,\n",
    "                     #include_dipole=False\n",
    "                    )\n",
    "\n",
    "hl_array = np.zeros(2)  # the factor 2 accounts for\n",
    "el_array = np.zeros(2)\n",
    "\n",
    "hl_array[0] = 1\n",
    "el_array[0] = 1\n",
    "\n",
    "r, W_r = HS.get_exciton_screened_potential_r(\n",
    "    r_array=np.linspace(1e-1, 1000, 10000),\n",
    "    e_distr=el_array,\n",
    "    h_distr=hl_array,\n",
    "    )\n",
    "\n",
    "np.save('MoS2_alone_W', W_r)  \n",
    "np.save('MoS2_alone_r', r) \n",
    "\n",
    "plt.plot(r, W_r, '-g')\n",
    "plt.title(r'Screened Interaction Energy')\n",
    "plt.xlabel(r'${\\bf r}$ (Ang)', fontsize=20)\n",
    "plt.ylabel(r'$W({\\bf r})$ (Ha)', fontsize=20)\n",
    "#plt.savefig('W_r_mos2.svg')\n",
    "plt.show()\n"
   ]
  },
  {
   "cell_type": "code",
   "execution_count": 9,
   "metadata": {},
   "outputs": [
    {
     "name": "stdout",
     "output_type": "stream",
     "text": [
      "('The interlayer exciton binding energy is:', 0.5971289399187523)\n"
     ]
    }
   ],
   "source": [
    "ee, ev = HS.get_exciton_binding_energies(eff_mass=0.277,  # exciton eff_mass\n",
    "                                             e_distr=el_array,\n",
    "                                             h_distr=hl_array)\n",
    "\n",
    "print('The interlayer exciton binding energy is:', -ee[0].real)"
   ]
  },
  {
   "cell_type": "code",
   "execution_count": 10,
   "metadata": {},
   "outputs": [],
   "source": [
    "from scipy import integrate\n",
    "import numpy as np\n",
    "import sympy as sym\n",
    "import math as m\n",
    "from scipy.interpolate import interp1d\n",
    "from scipy import integrate\n",
    "import matplotlib.pyplot as plt\n",
    "#@matplotlib inline\n",
    "\n",
    "#r=np.load('r_for_W.npy')\n",
    "#W11_r=np.load('W_r_mos2.npy')\n",
    "\n",
    "r=np.load('MoS2_alone_r.npy')\n",
    "W11_r=np.load('MoS2_alone_W.npy')"
   ]
  },
  {
   "cell_type": "code",
   "execution_count": 11,
   "metadata": {},
   "outputs": [
    {
     "data": {
      "image/png": "[encoded data removed]",
      "text/plain": [
       "<Figure size 432x288 with 1 Axes>"
      ]
     },
     "metadata": {
      "needs_background": "light"
     },
     "output_type": "display_data"
    }
   ],
   "source": [
    "from scipy.integrate import quad\n",
    "\n",
    "\n",
    "#квадрат волновой функции\n",
    "def wavefunc(x,aa):\n",
    "    return 4*np.exp(-2*x/aa)/(aa**2*2*np.pi)\n",
    "\n",
    "W11r = interp1d(r,W11_r,kind='linear')\n",
    "plt.plot(r,W11r(r))\n",
    "plt.plot(r,W11_r,'k.')\n",
    "\n",
    "def integrand11(rr,a):\n",
    "    return 27.21*rr*wavefunc(rr,a)*W11r(rr)\n",
    "    \n",
    "def V11(a):    \n",
    "    return 2*np.pi*integrate.quad(integrand11, r[0], r[-1], args=(a,), limit=200)[0]"
   ]
  },
  {
   "cell_type": "code",
   "execution_count": 12,
   "metadata": {},
   "outputs": [],
   "source": [
    "from ase.units import Bohr, Hartree\n",
    "\n",
    "m1e=0.55\n",
    "m1h=0.56\n",
    "#mu11=m1e*m1h/(m1e+m1h)\n",
    "eff_mass=0.277\n",
    "\n",
    "### K11 in eV\n",
    "def K11(a):\n",
    "#     ainm=a*1.e-10 ### A to m\n",
    "#     return JtoeV*hbar**2/(2*mu11*ainm**2)\n",
    "    return Hartree/((Bohr**2)*(2*eff_mass*a**2))\n"
   ]
  },
  {
   "cell_type": "code",
   "execution_count": 23,
   "metadata": {},
   "outputs": [],
   "source": [
    "#a=np.linspace(1,100,50)\n",
    "#H11=np.zeros(50)\n",
    "\n",
    "#for i in range(50):\n",
    " #   H11[i]=K11(a[i])+V11(a[i])\n",
    "\n",
    "#plt.plot(a,H11)\n",
    "\n",
    "@np.vectorize\n",
    "def gs(a):\n",
    "    H11=K11(a)+V11(a)\n",
    "    return H11"
   ]
  },
  {
   "cell_type": "code",
   "execution_count": 24,
   "metadata": {},
   "outputs": [
    {
     "data": {
      "text/plain": [
       "      fun: -0.3919208190614173\n",
       " hess_inv: array([[2500.87820022]])\n",
       "      jac: array([-8.54954123e-06])\n",
       "  message: 'Optimization terminated successfully.'\n",
       "     nfev: 57\n",
       "      nit: 18\n",
       "     njev: 19\n",
       "   status: 0\n",
       "  success: True\n",
       "        x: array([35.38783666])"
      ]
     },
     "execution_count": 24,
     "metadata": {},
     "output_type": "execute_result"
    }
   ],
   "source": [
    "#min(H11)\n",
    "\n",
    "from scipy import optimize\n",
    "\n",
    "value_min = optimize.minimize(gs, [2])\n",
    "\n",
    "value_min"
   ]
  },
  {
   "cell_type": "code",
   "execution_count": null,
   "metadata": {},
   "outputs": [],
   "source": []
  }
 ],
 "metadata": {
  "kernelspec": {
   "display_name": "Python 2",
   "language": "python",
   "name": "python2"
  },
  "language_info": {
   "codemirror_mode": {
    "name": "ipython",
    "version": 2
   },
   "file_extension": ".py",
   "mimetype": "text/x-python",
   "name": "python",
   "nbconvert_exporter": "python",
   "pygments_lexer": "ipython2",
   "version": "2.7.15rc1"
  }
 },
 "nbformat": 4,
 "nbformat_minor": 2
}
