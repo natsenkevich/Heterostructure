{
 "cells": [
  {
   "cell_type": "code",
   "execution_count": 3,
   "metadata": {},
   "outputs": [],
   "source": [
    "from scipy import integrate\n",
    "import numpy as np\n",
    "import math as m\n",
    "from scipy.interpolate import interp1d\n",
    "from scipy import integrate\n",
    "import matplotlib.pyplot as plt\n",
    "from ase.units import Bohr, Hartree\n",
    "\n",
    "r=np.load('MoS2_alone_r.npy')\n",
    "rx=r\n",
    "ry=r\n",
    "#W_ee=np.load('MoS2_alone_W_ee.npy')\n",
    "W_eh=np.load('MoS2_alone_W_eh.npy')\n",
    "W_ee=W_eh"
   ]
  },
  {
   "cell_type": "markdown",
   "metadata": {},
   "source": [
    "$$\n",
    "\\Psi=\\frac{1}{\\sqrt{2}}\\frac{2}{\\pi a b Norm}(e^{-x/a}e^{-y/b}+e^{-y/a}e^{-x/b})\n",
    "$$"
   ]
  },
  {
   "cell_type": "markdown",
   "metadata": {},
   "source": [
    "$$\n",
    "Norm=\\sqrt{1+\\frac{16a^2b^2}{(a+b)^4}}\n",
    "$$"
   ]
  },
  {
   "cell_type": "code",
   "execution_count": 4,
   "metadata": {},
   "outputs": [],
   "source": [
    "from scipy.integrate import quad\n",
    "\n",
    "def wavefunc(x,y,aa,bb):\n",
    "    Norm=np.sqrt(1+16*aa**2*bb**2/(aa+bb)**4)\n",
    "    return 1/np.sqrt(2)/Norm*(2*np.exp(-x/aa)/(aa**2*np.pi)*np.exp(-y/bb)/(bb**2)+\n",
    "                      2*np.exp(-y/aa)/(aa**2*np.pi)*np.exp(-x/bb)/(bb**2))"
   ]
  },
  {
   "cell_type": "code",
   "execution_count": 5,
   "metadata": {},
   "outputs": [],
   "source": [
    "Wee = interp1d(r,W_ee,kind='linear')\n",
    "#plt.plot(r,Wee(r))\n",
    "#plt.plot(r,W_ee,'k.')"
   ]
  },
  {
   "cell_type": "code",
   "execution_count": 6,
   "metadata": {},
   "outputs": [],
   "source": [
    "Weh = interp1d(r,W_eh,kind='linear')\n",
    "#plt.plot(r,Weh(r))\n",
    "#plt.plot(r,W_eh,'k.')"
   ]
  },
  {
   "cell_type": "markdown",
   "metadata": {},
   "source": [
    "$$\n",
    "V_{1}=(2\\pi)^2 \\int_0^\\infty\\int_0^\\infty{\\Psi (r_{1}, r_{2})^2 W_{eh}(r_{1})r_{1} r_{2}dr_{1}dr_{2}}\n",
    "$$"
   ]
  },
  {
   "cell_type": "code",
   "execution_count": 7,
   "metadata": {},
   "outputs": [],
   "source": [
    "def integrand11(rx,ry,a,b):\n",
    "    return 27.21*rx*ry*wavefunc(rx,ry,a,b)**2*Weh(rx)"
   ]
  },
  {
   "cell_type": "code",
   "execution_count": 8,
   "metadata": {},
   "outputs": [],
   "source": [
    "def V11(ry,aa,bb):    \n",
    "    return 2*np.pi*integrate.quad(integrand11, rx[0], rx[-1],\n",
    "                                    args=(ry,aa,bb))[0]"
   ]
  },
  {
   "cell_type": "code",
   "execution_count": 9,
   "metadata": {},
   "outputs": [],
   "source": [
    "def V22(aa,bb):    \n",
    "    return 2*np.pi*integrate.quad(V11, ry[0], ry[-1],\n",
    "                                    args=(aa,bb))[0]"
   ]
  },
  {
   "cell_type": "markdown",
   "metadata": {},
   "source": [
    "$$\n",
    "V_{2}=(2\\pi)^2 \\int_0^\\infty\\int_0^\\infty{\\Psi (r_{1}, r_{2})^2 W_{eh}(|r_{1}-r_{2}|)r_{1} r_{2}dr_{1}dr_{2}}\n",
    "$$"
   ]
  },
  {
   "cell_type": "code",
   "execution_count": 10,
   "metadata": {},
   "outputs": [],
   "source": [
    "def integrand22(rx,ry,a,b):\n",
    "    if abs(rx-ry)<0.1: return 0\n",
    "    else:\n",
    "        return 27.21*rx*wavefunc(rx,ry,a,b)**2*Wee(abs(ry-rx))"
   ]
  },
  {
   "cell_type": "code",
   "execution_count": 11,
   "metadata": {},
   "outputs": [],
   "source": [
    "def V33(ry,aa,bb):    \n",
    "    return 2*np.pi*ry*integrate.quad(integrand22, rx[0], rx[-1],\n",
    "                                    args=(ry,aa,bb), limit=200)[0]"
   ]
  },
  {
   "cell_type": "code",
   "execution_count": 12,
   "metadata": {},
   "outputs": [],
   "source": [
    "def V44(aa,bb):    \n",
    "    return 2*np.pi*integrate.quad(V33, ry[0], ry[-1],\n",
    "                                    args=(aa,bb), limit=200)[0]"
   ]
  },
  {
   "cell_type": "markdown",
   "metadata": {},
   "source": [
    "$$\n",
    "K=\\frac{Hartree}{m_{eff}Norm^2}(\\frac{1}{2a^2}+\\frac{1}{2b^2}+\\frac{8(a^2+b^2)}{(a+b)^4})\n",
    "$$"
   ]
  },
  {
   "cell_type": "code",
   "execution_count": 13,
   "metadata": {},
   "outputs": [],
   "source": [
    "eff_mass=0.277\n",
    "\n",
    "def K11(a,b):\n",
    "    Norm=np.sqrt(1+16*a**2*b**2/(a+b)**4)\n",
    "    return Hartree*(1/(2*a**2)+1/(2*b**2)+8*(a**2+b**2)/(a+b)**4)/eff_mass/Norm**2"
   ]
  },
  {
   "cell_type": "markdown",
   "metadata": {},
   "source": [
    "$$\n",
    "V_{3}=(2\\pi)^2 \\int_0^\\infty\\int_0^\\infty{\\Psi (r_{1}, r_{2})^2 W_{eh}(r_{2})r_{1} r_{2}dr_{1}dr_{2}}\n",
    "$$"
   ]
  },
  {
   "cell_type": "code",
   "execution_count": 14,
   "metadata": {},
   "outputs": [],
   "source": [
    "def integrand33(rx,ry,a,b):\n",
    "    return 27.21*rx*ry*wavefunc(rx,ry,a,b)**2*Weh(ry)"
   ]
  },
  {
   "cell_type": "code",
   "execution_count": 15,
   "metadata": {},
   "outputs": [],
   "source": [
    "def V55(rx,aa,bb):    \n",
    "    return 2*np.pi*integrate.quad(integrand33, ry[0], ry[-1],\n",
    "                                    args=(rx,aa,bb))[0]"
   ]
  },
  {
   "cell_type": "code",
   "execution_count": 16,
   "metadata": {},
   "outputs": [],
   "source": [
    "def V66(aa,bb):    \n",
    "    return 2*np.pi*integrate.quad(V55, rx[0], rx[-1],\n",
    "                                    args=(aa,bb))[0]"
   ]
  },
  {
   "cell_type": "markdown",
   "metadata": {},
   "source": [
    "$$\n",
    "H=K+V_{1}-V_{2}+V_{3}\n",
    "$$"
   ]
  },
  {
   "cell_type": "code",
   "execution_count": 17,
   "metadata": {},
   "outputs": [],
   "source": [
    "x=np.zeros(2)\n",
    "\n",
    "def gs(x):\n",
    "    return K11(x[0],x[1])+V22(x[0],x[1])-V44(x[0],x[1])+V66(x[0],x[1])"
   ]
  },
  {
   "cell_type": "code",
   "execution_count": 20,
   "metadata": {},
   "outputs": [
    {
     "data": {
      "text/plain": [
       "      fun: 0.0742226123194197\n",
       " hess_inv: <2x2 LbfgsInvHessProduct with dtype=float64>\n",
       "      jac: array([-0.00363836, -0.00078588])\n",
       "  message: b'CONVERGENCE: NORM_OF_PROJECTED_GRADIENT_<=_PGTOL'\n",
       "     nfev: 27\n",
       "      nit: 8\n",
       "   status: 0\n",
       "  success: True\n",
       "        x: array([30., 50.])"
      ]
     },
     "execution_count": 20,
     "metadata": {},
     "output_type": "execute_result"
    }
   ],
   "source": [
    "from scipy.optimize import minimize\n",
    "\n",
    "value_min = minimize(gs, [10, 25],bounds=[(5,30),(20,50)],method='L-BFGS-B',options={'disp':1})\n",
    "\n",
    "value_min"
   ]
  },
  {
   "cell_type": "code",
   "execution_count": null,
   "metadata": {},
   "outputs": [],
   "source": []
  }
 ],
 "metadata": {
  "kernelspec": {
   "display_name": "Python 3",
   "language": "python",
   "name": "python3"
  },
  "language_info": {
   "codemirror_mode": {
    "name": "ipython",
    "version": 3
   },
   "file_extension": ".py",
   "mimetype": "text/x-python",
   "name": "python",
   "nbconvert_exporter": "python",
   "pygments_lexer": "ipython3",
   "version": "3.7.2"
  }
 },
 "nbformat": 4,
 "nbformat_minor": 2
}
