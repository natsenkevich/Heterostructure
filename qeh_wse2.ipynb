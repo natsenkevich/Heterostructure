{
 "cells": [
  {
   "cell_type": "code",
   "execution_count": 1,
   "metadata": {},
   "outputs": [
    {
     "data": {
      "image/png": "[encoded data removed]",
      "text/plain": [
       "<Figure size 432x288 with 1 Axes>"
      ]
     },
     "metadata": {
      "needs_background": "light"
     },
     "output_type": "display_data"
    }
   ],
   "source": [
    "import numpy as np\n",
    "import matplotlib.pyplot as plt\n",
    "from gpaw.response.qeh import Heterostructure\n",
    "from gpaw.response.qeh import interpolate_building_blocks\n",
    "%matplotlib inline\n",
    "\n",
    "#interpolate_building_blocks(BBfiles=['MoS2'], BBmotherfile='WSe2')\n",
    "\n",
    "\n",
    "thick_WSe2 = 6.718\n",
    "\n",
    "#d_MoS2_WSe2 = (thick_MoS2 + thick_WSe2) / 2\n",
    "#inter_mass = 0.244\n",
    "\n",
    "\n",
    "HS = Heterostructure(structure=['H-WSe2'],\n",
    "                     d=thick_WSe2,\n",
    "                     include_dipole=True,\n",
    "                     #qmax=None,\n",
    "                     wmax=0,\n",
    "                     d0=thick_WSe2,\n",
    "                     #include_dipole=False\n",
    "                    )\n",
    "\n",
    "hl_array = np.zeros(2)  # the factor 2 accounts for\n",
    "el_array = np.zeros(2)\n",
    "\n",
    "hl_array[0] = 1\n",
    "el_array[0] = 1\n",
    "\n",
    "r, W_r = HS.get_exciton_screened_potential_r(\n",
    "    r_array=np.linspace(1e-1, 1000, 10000),\n",
    "    e_distr=el_array,\n",
    "    h_distr=hl_array,\n",
    "    )\n",
    "\n",
    "np.save('WSe2_alone_W', W_r)  \n",
    "np.save('WSe2_alone_r', r) \n",
    "\n",
    "plt.plot(r, W_r, '-g')\n",
    "plt.title(r'Screened Interaction Energy')\n",
    "plt.xlabel(r'${\\bf r}$ (Ang)', fontsize=20)\n",
    "plt.ylabel(r'$W({\\bf r})$ (Ha)', fontsize=20)\n",
    "#plt.savefig('W_r_mos2.svg')\n",
    "plt.show()"
   ]
  },
  {
   "cell_type": "code",
   "execution_count": 2,
   "metadata": {},
   "outputs": [
    {
     "name": "stdout",
     "output_type": "stream",
     "text": [
      "('The interlayer exciton binding energy is:', 0.5453486208561085)\n"
     ]
    }
   ],
   "source": [
    "ee, ev = HS.get_exciton_binding_energies(eff_mass=0.23,  # exciton eff_mass\n",
    "                                             e_distr=el_array,\n",
    "                                             h_distr=hl_array)\n",
    "\n",
    "print('The interlayer exciton binding energy is:', -ee[0].real)"
   ]
  },
  {
   "cell_type": "code",
   "execution_count": 3,
   "metadata": {},
   "outputs": [],
   "source": [
    "from scipy import integrate\n",
    "import numpy as np\n",
    "import sympy as sym\n",
    "import math as m\n",
    "from scipy.interpolate import interp1d\n",
    "from scipy import integrate\n",
    "import matplotlib.pyplot as plt\n",
    "#@matplotlib inline\n",
    "\n",
    "#r=np.load('r_for_W.npy')\n",
    "#W11_r=np.load('W_r_mos2.npy')\n",
    "\n",
    "r=np.load('WSe2_alone_r.npy')\n",
    "W11_r=np.load('WSe2_alone_W.npy')"
   ]
  },
  {
   "cell_type": "code",
   "execution_count": 4,
   "metadata": {},
   "outputs": [
    {
     "data": {
      "image/png": "[encoded data removed]",
      "text/plain": [
       "<Figure size 432x288 with 1 Axes>"
      ]
     },
     "metadata": {
      "needs_background": "light"
     },
     "output_type": "display_data"
    }
   ],
   "source": [
    "from scipy.integrate import quad\n",
    "\n",
    "\n",
    "#квадрат волновой функции\n",
    "def wavefunc(x,aa):\n",
    "    return 2*np.exp(-2*x/aa)/(aa**2*np.pi)\n",
    "\n",
    "W11r = interp1d(r,W11_r,kind='linear')\n",
    "plt.plot(r,W11r(r))\n",
    "plt.plot(r,W11_r,'k.')\n",
    "\n",
    "def integrand11(rr,a):\n",
    "    return 2*np.pi*rr*wavefunc(rr,a)*W11r(rr)*27.21\n",
    "    \n",
    "def V11(a):    \n",
    "    return integrate.quad(integrand11, r[0], r[-1], args=(a,))[0]"
   ]
  },
  {
   "cell_type": "code",
   "execution_count": 5,
   "metadata": {},
   "outputs": [],
   "source": [
    "from ase.units import Bohr, Hartree\n",
    "\n",
    "eff_mass=0.23\n",
    "\n",
    "### K11 in eV\n",
    "def K11(a):\n",
    "#     ainm=a*1.e-10 ### A to m\n",
    "#     return JtoeV*hbar**2/(2*mu11*ainm**2)\n",
    "    return Hartree/((Bohr**2)*(2*eff_mass*a**2))\n"
   ]
  },
  {
   "cell_type": "code",
   "execution_count": 6,
   "metadata": {},
   "outputs": [
    {
     "name": "stderr",
     "output_type": "stream",
     "text": [
      "/home/nsenkevich/anaconda2/lib/python2.7/site-packages/scipy/integrate/quadpack.py:385: IntegrationWarning: The maximum number of subdivisions (50) has been achieved.\n",
      "  If increasing the limit yields no improvement it is advised to analyze \n",
      "  the integrand in order to determine the difficulties.  If the position of a \n",
      "  local difficulty can be determined (singularity, discontinuity) one will \n",
      "  probably gain from splitting up the interval and calling the integrator \n",
      "  on the subranges.  Perhaps a special-purpose integrator should be used.\n",
      "  warnings.warn(msg, IntegrationWarning)\n"
     ]
    },
    {
     "data": {
      "text/plain": [
       "[<matplotlib.lines.Line2D at 0x7f625e9db190>]"
      ]
     },
     "execution_count": 6,
     "metadata": {},
     "output_type": "execute_result"
    },
    {
     "data": {
      "image/png": "[encoded data removed]",
      "text/plain": [
       "<Figure size 432x288 with 1 Axes>"
      ]
     },
     "metadata": {
      "needs_background": "light"
     },
     "output_type": "display_data"
    }
   ],
   "source": [
    "a=np.linspace(1,40,100)\n",
    "H11=np.zeros(100)\n",
    "\n",
    "for i in range(100):\n",
    "    H11[i]=K11(a[i])+V11(a[i])\n",
    "\n",
    "plt.plot(a,H11)"
   ]
  },
  {
   "cell_type": "code",
   "execution_count": 7,
   "metadata": {},
   "outputs": [
    {
     "data": {
      "text/plain": [
       "-0.3563446174523761"
      ]
     },
     "execution_count": 7,
     "metadata": {},
     "output_type": "execute_result"
    }
   ],
   "source": [
    "min(H11)"
   ]
  },
  {
   "cell_type": "code",
   "execution_count": null,
   "metadata": {},
   "outputs": [],
   "source": []
  }
 ],
 "metadata": {
  "kernelspec": {
   "display_name": "Python 2",
   "language": "python",
   "name": "python2"
  },
  "language_info": {
   "codemirror_mode": {
    "name": "ipython",
    "version": 2
   },
   "file_extension": ".py",
   "mimetype": "text/x-python",
   "name": "python",
   "nbconvert_exporter": "python",
   "pygments_lexer": "ipython2",
   "version": "2.7.15"
  }
 },
 "nbformat": 4,
 "nbformat_minor": 2
}
