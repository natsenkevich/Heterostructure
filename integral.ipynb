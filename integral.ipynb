{
 "cells": [
  {
   "cell_type": "code",
   "execution_count": 64,
   "metadata": {},
   "outputs": [],
   "source": [
    "from scipy import integrate\n",
    "import numpy as np\n",
    "import sympy as sym\n",
    "import math as m\n",
    "from scipy.interpolate import interp1d\n",
    "from scipy import integrate\n",
    "import matplotlib.pyplot as plt\n",
    "#@matplotlib inline\n",
    "\n",
    "r=np.load('r_for_W.npy')\n",
    "W_r=np.load('W_r.npy')"
   ]
  },
  {
   "cell_type": "code",
   "execution_count": 11,
   "metadata": {},
   "outputs": [
    {
     "data": {
      "text/plain": [
       "array([ 0.1       ,  0.12992993,  0.15985986,  0.18978979,  0.21971972,\n",
       "        0.24964965,  0.27957958,  0.30950951,  0.33943944,  0.36936937,\n",
       "        0.3992993 ,  0.42922923,  0.45915916,  0.48908909,  0.51901902,\n",
       "        0.54894895,  0.57887888,  0.60880881,  0.63873874,  0.66866867,\n",
       "        0.6985986 ,  0.72852853,  0.75845846,  0.78838839,  0.81831832,\n",
       "        0.84824825,  0.87817818,  0.90810811,  0.93803804,  0.96796797,\n",
       "        0.9978979 ,  1.02782783,  1.05775776,  1.08768769,  1.11761762,\n",
       "        1.14754755,  1.17747748,  1.20740741,  1.23733734,  1.26726727,\n",
       "        1.2971972 ,  1.32712713,  1.35705706,  1.38698699,  1.41691692,\n",
       "        1.44684685,  1.47677678,  1.50670671,  1.53663664,  1.56656657,\n",
       "        1.5964965 ,  1.62642643,  1.65635636,  1.68628629,  1.71621622,\n",
       "        1.74614615,  1.77607608,  1.80600601,  1.83593594,  1.86586587,\n",
       "        1.8957958 ,  1.92572573,  1.95565566,  1.98558559,  2.01551552,\n",
       "        2.04544545,  2.07537538,  2.10530531,  2.13523524,  2.16516517,\n",
       "        2.1950951 ,  2.22502503,  2.25495495,  2.28488488,  2.31481481,\n",
       "        2.34474474,  2.37467467,  2.4046046 ,  2.43453453,  2.46446446,\n",
       "        2.49439439,  2.52432432,  2.55425425,  2.58418418,  2.61411411,\n",
       "        2.64404404,  2.67397397,  2.7039039 ,  2.73383383,  2.76376376,\n",
       "        2.79369369,  2.82362362,  2.85355355,  2.88348348,  2.91341341,\n",
       "        2.94334334,  2.97327327,  3.0032032 ,  3.03313313,  3.06306306,\n",
       "        3.09299299,  3.12292292,  3.15285285,  3.18278278,  3.21271271,\n",
       "        3.24264264,  3.27257257,  3.3025025 ,  3.33243243,  3.36236236,\n",
       "        3.39229229,  3.42222222,  3.45215215,  3.48208208,  3.51201201,\n",
       "        3.54194194,  3.57187187,  3.6018018 ,  3.63173173,  3.66166166,\n",
       "        3.69159159,  3.72152152,  3.75145145,  3.78138138,  3.81131131,\n",
       "        3.84124124,  3.87117117,  3.9011011 ,  3.93103103,  3.96096096,\n",
       "        3.99089089,  4.02082082,  4.05075075,  4.08068068,  4.11061061,\n",
       "        4.14054054,  4.17047047,  4.2004004 ,  4.23033033,  4.26026026,\n",
       "        4.29019019,  4.32012012,  4.35005005,  4.37997998,  4.40990991,\n",
       "        4.43983984,  4.46976977,  4.4996997 ,  4.52962963,  4.55955956,\n",
       "        4.58948949,  4.61941942,  4.64934935,  4.67927928,  4.70920921,\n",
       "        4.73913914,  4.76906907,  4.798999  ,  4.82892893,  4.85885886,\n",
       "        4.88878879,  4.91871872,  4.94864865,  4.97857858,  5.00850851,\n",
       "        5.03843844,  5.06836837,  5.0982983 ,  5.12822823,  5.15815816,\n",
       "        5.18808809,  5.21801802,  5.24794795,  5.27787788,  5.30780781,\n",
       "        5.33773774,  5.36766767,  5.3975976 ,  5.42752753,  5.45745746,\n",
       "        5.48738739,  5.51731732,  5.54724725,  5.57717718,  5.60710711,\n",
       "        5.63703704,  5.66696697,  5.6968969 ,  5.72682683,  5.75675676,\n",
       "        5.78668669,  5.81661662,  5.84654655,  5.87647648,  5.90640641,\n",
       "        5.93633634,  5.96626627,  5.9961962 ,  6.02612613,  6.05605606,\n",
       "        6.08598599,  6.11591592,  6.14584585,  6.17577578,  6.20570571,\n",
       "        6.23563564,  6.26556557,  6.2954955 ,  6.32542543,  6.35535536,\n",
       "        6.38528529,  6.41521522,  6.44514515,  6.47507508,  6.50500501,\n",
       "        6.53493493,  6.56486486,  6.59479479,  6.62472472,  6.65465465,\n",
       "        6.68458458,  6.71451451,  6.74444444,  6.77437437,  6.8043043 ,\n",
       "        6.83423423,  6.86416416,  6.89409409,  6.92402402,  6.95395395,\n",
       "        6.98388388,  7.01381381,  7.04374374,  7.07367367,  7.1036036 ,\n",
       "        7.13353353,  7.16346346,  7.19339339,  7.22332332,  7.25325325,\n",
       "        7.28318318,  7.31311311,  7.34304304,  7.37297297,  7.4029029 ,\n",
       "        7.43283283,  7.46276276,  7.49269269,  7.52262262,  7.55255255,\n",
       "        7.58248248,  7.61241241,  7.64234234,  7.67227227,  7.7022022 ,\n",
       "        7.73213213,  7.76206206,  7.79199199,  7.82192192,  7.85185185,\n",
       "        7.88178178,  7.91171171,  7.94164164,  7.97157157,  8.0015015 ,\n",
       "        8.03143143,  8.06136136,  8.09129129,  8.12122122,  8.15115115,\n",
       "        8.18108108,  8.21101101,  8.24094094,  8.27087087,  8.3008008 ,\n",
       "        8.33073073,  8.36066066,  8.39059059,  8.42052052,  8.45045045,\n",
       "        8.48038038,  8.51031031,  8.54024024,  8.57017017,  8.6001001 ,\n",
       "        8.63003003,  8.65995996,  8.68988989,  8.71981982,  8.74974975,\n",
       "        8.77967968,  8.80960961,  8.83953954,  8.86946947,  8.8993994 ,\n",
       "        8.92932933,  8.95925926,  8.98918919,  9.01911912,  9.04904905,\n",
       "        9.07897898,  9.10890891,  9.13883884,  9.16876877,  9.1986987 ,\n",
       "        9.22862863,  9.25855856,  9.28848849,  9.31841842,  9.34834835,\n",
       "        9.37827828,  9.40820821,  9.43813814,  9.46806807,  9.497998  ,\n",
       "        9.52792793,  9.55785786,  9.58778779,  9.61771772,  9.64764765,\n",
       "        9.67757758,  9.70750751,  9.73743744,  9.76736737,  9.7972973 ,\n",
       "        9.82722723,  9.85715716,  9.88708709,  9.91701702,  9.94694695,\n",
       "        9.97687688, 10.00680681, 10.03673674, 10.06666667, 10.0965966 ,\n",
       "       10.12652653, 10.15645646, 10.18638639, 10.21631632, 10.24624625,\n",
       "       10.27617618, 10.30610611, 10.33603604, 10.36596597, 10.3958959 ,\n",
       "       10.42582583, 10.45575576, 10.48568569, 10.51561562, 10.54554555,\n",
       "       10.57547548, 10.60540541, 10.63533534, 10.66526527, 10.6951952 ,\n",
       "       10.72512513, 10.75505506, 10.78498498, 10.81491491, 10.84484484,\n",
       "       10.87477477, 10.9047047 , 10.93463463, 10.96456456, 10.99449449,\n",
       "       11.02442442, 11.05435435, 11.08428428, 11.11421421, 11.14414414,\n",
       "       11.17407407, 11.204004  , 11.23393393, 11.26386386, 11.29379379,\n",
       "       11.32372372, 11.35365365, 11.38358358, 11.41351351, 11.44344344,\n",
       "       11.47337337, 11.5033033 , 11.53323323, 11.56316316, 11.59309309,\n",
       "       11.62302302, 11.65295295, 11.68288288, 11.71281281, 11.74274274,\n",
       "       11.77267267, 11.8026026 , 11.83253253, 11.86246246, 11.89239239,\n",
       "       11.92232232, 11.95225225, 11.98218218, 12.01211211, 12.04204204,\n",
       "       12.07197197, 12.1019019 , 12.13183183, 12.16176176, 12.19169169,\n",
       "       12.22162162, 12.25155155, 12.28148148, 12.31141141, 12.34134134,\n",
       "       12.37127127, 12.4012012 , 12.43113113, 12.46106106, 12.49099099,\n",
       "       12.52092092, 12.55085085, 12.58078078, 12.61071071, 12.64064064,\n",
       "       12.67057057, 12.7005005 , 12.73043043, 12.76036036, 12.79029029,\n",
       "       12.82022022, 12.85015015, 12.88008008, 12.91001001, 12.93993994,\n",
       "       12.96986987, 12.9997998 , 13.02972973, 13.05965966, 13.08958959,\n",
       "       13.11951952, 13.14944945, 13.17937938, 13.20930931, 13.23923924,\n",
       "       13.26916917, 13.2990991 , 13.32902903, 13.35895896, 13.38888889,\n",
       "       13.41881882, 13.44874875, 13.47867868, 13.50860861, 13.53853854,\n",
       "       13.56846847, 13.5983984 , 13.62832833, 13.65825826, 13.68818819,\n",
       "       13.71811812, 13.74804805, 13.77797798, 13.80790791, 13.83783784,\n",
       "       13.86776777, 13.8976977 , 13.92762763, 13.95755756, 13.98748749,\n",
       "       14.01741742, 14.04734735, 14.07727728, 14.10720721, 14.13713714,\n",
       "       14.16706707, 14.196997  , 14.22692693, 14.25685686, 14.28678679,\n",
       "       14.31671672, 14.34664665, 14.37657658, 14.40650651, 14.43643644,\n",
       "       14.46636637, 14.4962963 , 14.52622623, 14.55615616, 14.58608609,\n",
       "       14.61601602, 14.64594595, 14.67587588, 14.70580581, 14.73573574,\n",
       "       14.76566567, 14.7955956 , 14.82552553, 14.85545546, 14.88538539,\n",
       "       14.91531532, 14.94524525, 14.97517518, 15.00510511, 15.03503504,\n",
       "       15.06496496, 15.09489489, 15.12482482, 15.15475475, 15.18468468,\n",
       "       15.21461461, 15.24454454, 15.27447447, 15.3044044 , 15.33433433,\n",
       "       15.36426426, 15.39419419, 15.42412412, 15.45405405, 15.48398398,\n",
       "       15.51391391, 15.54384384, 15.57377377, 15.6037037 , 15.63363363,\n",
       "       15.66356356, 15.69349349, 15.72342342, 15.75335335, 15.78328328,\n",
       "       15.81321321, 15.84314314, 15.87307307, 15.903003  , 15.93293293,\n",
       "       15.96286286, 15.99279279, 16.02272272, 16.05265265, 16.08258258,\n",
       "       16.11251251, 16.14244244, 16.17237237, 16.2023023 , 16.23223223,\n",
       "       16.26216216, 16.29209209, 16.32202202, 16.35195195, 16.38188188,\n",
       "       16.41181181, 16.44174174, 16.47167167, 16.5016016 , 16.53153153,\n",
       "       16.56146146, 16.59139139, 16.62132132, 16.65125125, 16.68118118,\n",
       "       16.71111111, 16.74104104, 16.77097097, 16.8009009 , 16.83083083,\n",
       "       16.86076076, 16.89069069, 16.92062062, 16.95055055, 16.98048048,\n",
       "       17.01041041, 17.04034034, 17.07027027, 17.1002002 , 17.13013013,\n",
       "       17.16006006, 17.18998999, 17.21991992, 17.24984985, 17.27977978,\n",
       "       17.30970971, 17.33963964, 17.36956957, 17.3994995 , 17.42942943,\n",
       "       17.45935936, 17.48928929, 17.51921922, 17.54914915, 17.57907908,\n",
       "       17.60900901, 17.63893894, 17.66886887, 17.6987988 , 17.72872873,\n",
       "       17.75865866, 17.78858859, 17.81851852, 17.84844845, 17.87837838,\n",
       "       17.90830831, 17.93823824, 17.96816817, 17.9980981 , 18.02802803,\n",
       "       18.05795796, 18.08788789, 18.11781782, 18.14774775, 18.17767768,\n",
       "       18.20760761, 18.23753754, 18.26746747, 18.2973974 , 18.32732733,\n",
       "       18.35725726, 18.38718719, 18.41711712, 18.44704705, 18.47697698,\n",
       "       18.50690691, 18.53683684, 18.56676677, 18.5966967 , 18.62662663,\n",
       "       18.65655656, 18.68648649, 18.71641642, 18.74634635, 18.77627628,\n",
       "       18.80620621, 18.83613614, 18.86606607, 18.895996  , 18.92592593,\n",
       "       18.95585586, 18.98578579, 19.01571572, 19.04564565, 19.07557558,\n",
       "       19.10550551, 19.13543544, 19.16536537, 19.1952953 , 19.22522523,\n",
       "       19.25515516, 19.28508509, 19.31501502, 19.34494494, 19.37487487,\n",
       "       19.4048048 , 19.43473473, 19.46466466, 19.49459459, 19.52452452,\n",
       "       19.55445445, 19.58438438, 19.61431431, 19.64424424, 19.67417417,\n",
       "       19.7041041 , 19.73403403, 19.76396396, 19.79389389, 19.82382382,\n",
       "       19.85375375, 19.88368368, 19.91361361, 19.94354354, 19.97347347,\n",
       "       20.0034034 , 20.03333333, 20.06326326, 20.09319319, 20.12312312,\n",
       "       20.15305305, 20.18298298, 20.21291291, 20.24284284, 20.27277277,\n",
       "       20.3027027 , 20.33263263, 20.36256256, 20.39249249, 20.42242242,\n",
       "       20.45235235, 20.48228228, 20.51221221, 20.54214214, 20.57207207,\n",
       "       20.602002  , 20.63193193, 20.66186186, 20.69179179, 20.72172172,\n",
       "       20.75165165, 20.78158158, 20.81151151, 20.84144144, 20.87137137,\n",
       "       20.9013013 , 20.93123123, 20.96116116, 20.99109109, 21.02102102,\n",
       "       21.05095095, 21.08088088, 21.11081081, 21.14074074, 21.17067067,\n",
       "       21.2006006 , 21.23053053, 21.26046046, 21.29039039, 21.32032032,\n",
       "       21.35025025, 21.38018018, 21.41011011, 21.44004004, 21.46996997,\n",
       "       21.4998999 , 21.52982983, 21.55975976, 21.58968969, 21.61961962,\n",
       "       21.64954955, 21.67947948, 21.70940941, 21.73933934, 21.76926927,\n",
       "       21.7991992 , 21.82912913, 21.85905906, 21.88898899, 21.91891892,\n",
       "       21.94884885, 21.97877878, 22.00870871, 22.03863864, 22.06856857,\n",
       "       22.0984985 , 22.12842843, 22.15835836, 22.18828829, 22.21821822,\n",
       "       22.24814815, 22.27807808, 22.30800801, 22.33793794, 22.36786787,\n",
       "       22.3977978 , 22.42772773, 22.45765766, 22.48758759, 22.51751752,\n",
       "       22.54744745, 22.57737738, 22.60730731, 22.63723724, 22.66716717,\n",
       "       22.6970971 , 22.72702703, 22.75695696, 22.78688689, 22.81681682,\n",
       "       22.84674675, 22.87667668, 22.90660661, 22.93653654, 22.96646647,\n",
       "       22.9963964 , 23.02632633, 23.05625626, 23.08618619, 23.11611612,\n",
       "       23.14604605, 23.17597598, 23.20590591, 23.23583584, 23.26576577,\n",
       "       23.2956957 , 23.32562563, 23.35555556, 23.38548549, 23.41541542,\n",
       "       23.44534535, 23.47527528, 23.50520521, 23.53513514, 23.56506507,\n",
       "       23.59499499, 23.62492492, 23.65485485, 23.68478478, 23.71471471,\n",
       "       23.74464464, 23.77457457, 23.8045045 , 23.83443443, 23.86436436,\n",
       "       23.89429429, 23.92422422, 23.95415415, 23.98408408, 24.01401401,\n",
       "       24.04394394, 24.07387387, 24.1038038 , 24.13373373, 24.16366366,\n",
       "       24.19359359, 24.22352352, 24.25345345, 24.28338338, 24.31331331,\n",
       "       24.34324324, 24.37317317, 24.4031031 , 24.43303303, 24.46296296,\n",
       "       24.49289289, 24.52282282, 24.55275275, 24.58268268, 24.61261261,\n",
       "       24.64254254, 24.67247247, 24.7024024 , 24.73233233, 24.76226226,\n",
       "       24.79219219, 24.82212212, 24.85205205, 24.88198198, 24.91191191,\n",
       "       24.94184184, 24.97177177, 25.0017017 , 25.03163163, 25.06156156,\n",
       "       25.09149149, 25.12142142, 25.15135135, 25.18128128, 25.21121121,\n",
       "       25.24114114, 25.27107107, 25.301001  , 25.33093093, 25.36086086,\n",
       "       25.39079079, 25.42072072, 25.45065065, 25.48058058, 25.51051051,\n",
       "       25.54044044, 25.57037037, 25.6003003 , 25.63023023, 25.66016016,\n",
       "       25.69009009, 25.72002002, 25.74994995, 25.77987988, 25.80980981,\n",
       "       25.83973974, 25.86966967, 25.8995996 , 25.92952953, 25.95945946,\n",
       "       25.98938939, 26.01931932, 26.04924925, 26.07917918, 26.10910911,\n",
       "       26.13903904, 26.16896897, 26.1988989 , 26.22882883, 26.25875876,\n",
       "       26.28868869, 26.31861862, 26.34854855, 26.37847848, 26.40840841,\n",
       "       26.43833834, 26.46826827, 26.4981982 , 26.52812813, 26.55805806,\n",
       "       26.58798799, 26.61791792, 26.64784785, 26.67777778, 26.70770771,\n",
       "       26.73763764, 26.76756757, 26.7974975 , 26.82742743, 26.85735736,\n",
       "       26.88728729, 26.91721722, 26.94714715, 26.97707708, 27.00700701,\n",
       "       27.03693694, 27.06686687, 27.0967968 , 27.12672673, 27.15665666,\n",
       "       27.18658659, 27.21651652, 27.24644645, 27.27637638, 27.30630631,\n",
       "       27.33623624, 27.36616617, 27.3960961 , 27.42602603, 27.45595596,\n",
       "       27.48588589, 27.51581582, 27.54574575, 27.57567568, 27.60560561,\n",
       "       27.63553554, 27.66546547, 27.6953954 , 27.72532533, 27.75525526,\n",
       "       27.78518519, 27.81511512, 27.84504505, 27.87497497, 27.9049049 ,\n",
       "       27.93483483, 27.96476476, 27.99469469, 28.02462462, 28.05455455,\n",
       "       28.08448448, 28.11441441, 28.14434434, 28.17427427, 28.2042042 ,\n",
       "       28.23413413, 28.26406406, 28.29399399, 28.32392392, 28.35385385,\n",
       "       28.38378378, 28.41371371, 28.44364364, 28.47357357, 28.5035035 ,\n",
       "       28.53343343, 28.56336336, 28.59329329, 28.62322322, 28.65315315,\n",
       "       28.68308308, 28.71301301, 28.74294294, 28.77287287, 28.8028028 ,\n",
       "       28.83273273, 28.86266266, 28.89259259, 28.92252252, 28.95245245,\n",
       "       28.98238238, 29.01231231, 29.04224224, 29.07217217, 29.1021021 ,\n",
       "       29.13203203, 29.16196196, 29.19189189, 29.22182182, 29.25175175,\n",
       "       29.28168168, 29.31161161, 29.34154154, 29.37147147, 29.4014014 ,\n",
       "       29.43133133, 29.46126126, 29.49119119, 29.52112112, 29.55105105,\n",
       "       29.58098098, 29.61091091, 29.64084084, 29.67077077, 29.7007007 ,\n",
       "       29.73063063, 29.76056056, 29.79049049, 29.82042042, 29.85035035,\n",
       "       29.88028028, 29.91021021, 29.94014014, 29.97007007, 30.        ])"
      ]
     },
     "execution_count": 11,
     "metadata": {},
     "output_type": "execute_result"
    }
   ],
   "source": [
    "r"
   ]
  },
  {
   "cell_type": "code",
   "execution_count": 101,
   "metadata": {},
   "outputs": [],
   "source": [
    "from scipy.integrate import quad\n",
    "\n",
    "#aa = sym.symbols('aa',real = True)\n",
    "\n",
    "def wavefunc(x,aa):\n",
    "    return 2/(np.sqrt(2*np.pi))*np.exp(-2*x/aa)\n",
    "\n",
    "#Vij = 2*np.pi*quad(r*wavefunc(r,a)*W_r, (r,0.1, 30))"
   ]
  },
  {
   "cell_type": "code",
   "execution_count": 102,
   "metadata": {},
   "outputs": [
    {
     "data": {
      "text/plain": [
       "-0.008849555496805248"
      ]
     },
     "execution_count": 102,
     "metadata": {},
     "output_type": "execute_result"
    }
   ],
   "source": [
    "integrand(1,2)"
   ]
  },
  {
   "cell_type": "code",
   "execution_count": 103,
   "metadata": {},
   "outputs": [
    {
     "data": {
      "text/plain": [
       "[<matplotlib.lines.Line2D at 0x7fec34f24dd0>]"
      ]
     },
     "execution_count": 103,
     "metadata": {},
     "output_type": "execute_result"
    },
    {
     "data": {
      "image/png": "[encoded data removed]",
      "text/plain": [
       "<Figure size 432x288 with 1 Axes>"
      ]
     },
     "metadata": {
      "needs_background": "light"
     },
     "output_type": "display_data"
    }
   ],
   "source": [
    "Wr = interp1d(r,W_r,kind='linear')\n",
    "plt.plot(r,Wr(r))\n",
    "plt.plot(r,W_r,'k.')"
   ]
  },
  {
   "cell_type": "code",
   "execution_count": 107,
   "metadata": {},
   "outputs": [],
   "source": [
    "def integrand(rr,a):\n",
    "    return rr*wavefunc(rr,a)*Wr(rr)\n",
    "    \n",
    "def int_result(a):    \n",
    "    return 2*np.pi*integrate.quad(integrand, r[0], r[-1], args=(2,), limit=200)[0]"
   ]
  },
  {
   "cell_type": "code",
   "execution_count": 108,
   "metadata": {},
   "outputs": [
    {
     "data": {
      "text/plain": [
       "-0.14738372063045"
      ]
     },
     "execution_count": 108,
     "metadata": {},
     "output_type": "execute_result"
    }
   ],
   "source": [
    "int_result(1)"
   ]
  },
  {
   "cell_type": "code",
   "execution_count": 113,
   "metadata": {},
   "outputs": [],
   "source": [
    "th=0.2341\n",
    "te=0\n",
    "Vek=0.31\n",
    "Vhg=0.16\n",
    "m0=9.1*10**(-29)\n",
    "h=6*582*10**(-16)\n",
    "m1e=0.55*m0\n",
    "m1h=3.3\n",
    "m2e=0.48*m0\n",
    "m2h=2.1\n",
    "\n",
    "mu11=1/(1/m1e+1/m1h)\n",
    "mu12=1/(1/m1e+1/m2h)\n",
    "mu21=1/(1/m2e+1/m1h)\n",
    "mu22=1/(1/m2e+1/m2h)\n",
    "\n",
    "def K11(a):\n",
    "    return h**2/(2*mu11*a**2)\n",
    "\n",
    "def K12(a):\n",
    "    return h**2/(2*mu12*a**2)\n",
    "\n",
    "def K21(a):\n",
    "    return h**2/(2*mu21*a**2)\n",
    "\n",
    "def K22(a):\n",
    "    return h**2/(2*mu22*a**2)"
   ]
  },
  {
   "cell_type": "code",
   "execution_count": 114,
   "metadata": {},
   "outputs": [
    {
     "ename": "NameError",
     "evalue": "name 'V11' is not defined",
     "output_type": "error",
     "traceback": [
      "\u001b[0;31m\u001b[0m",
      "\u001b[0;31mNameError\u001b[0mTraceback (most recent call last)",
      "\u001b[0;32m<ipython-input-114-b7ea71774c25>\u001b[0m in \u001b[0;36m<module>\u001b[0;34m()\u001b[0m\n\u001b[0;32m----> 1\u001b[0;31m \u001b[0mH11\u001b[0m\u001b[0;34m=\u001b[0m\u001b[0mK11\u001b[0m\u001b[0;34m+\u001b[0m\u001b[0mV11\u001b[0m\u001b[0;34m+\u001b[0m\u001b[0mVhg\u001b[0m\u001b[0;34m\u001b[0m\u001b[0m\n\u001b[0m\u001b[1;32m      2\u001b[0m \u001b[0mH12\u001b[0m\u001b[0;34m=\u001b[0m\u001b[0mK12\u001b[0m\u001b[0;34m+\u001b[0m\u001b[0mV12\u001b[0m\u001b[0;34m\u001b[0m\u001b[0m\n\u001b[1;32m      3\u001b[0m \u001b[0mH21\u001b[0m\u001b[0;34m=\u001b[0m\u001b[0mK21\u001b[0m\u001b[0;34m+\u001b[0m\u001b[0mV21\u001b[0m\u001b[0;34m+\u001b[0m\u001b[0mVek\u001b[0m\u001b[0;34m+\u001b[0m\u001b[0mVhg\u001b[0m\u001b[0;34m\u001b[0m\u001b[0m\n\u001b[1;32m      4\u001b[0m \u001b[0mH22\u001b[0m\u001b[0;34m=\u001b[0m\u001b[0mK22\u001b[0m\u001b[0;34m+\u001b[0m\u001b[0mV22\u001b[0m\u001b[0;34m+\u001b[0m\u001b[0mVek\u001b[0m\u001b[0;34m\u001b[0m\u001b[0m\n\u001b[1;32m      5\u001b[0m \u001b[0;34m\u001b[0m\u001b[0m\n",
      "\u001b[0;31mNameError\u001b[0m: name 'V11' is not defined"
     ]
    }
   ],
   "source": [
    "H11=K11+V11+Vhg\n",
    "H12=K12+V12\n",
    "H21=K21+V21+Vek+Vhg\n",
    "H22=K22+V22+Vek\n",
    "\n",
    "H= np.array([H11, th, te, 0], [th, H12, 0, te], [te, 0, H21, th], [0, te, th, H22])"
   ]
  },
  {
   "cell_type": "code",
   "execution_count": null,
   "metadata": {},
   "outputs": [],
   "source": []
  }
 ],
 "metadata": {
  "kernelspec": {
   "display_name": "Python 2",
   "language": "python",
   "name": "python2"
  },
  "language_info": {
   "codemirror_mode": {
    "name": "ipython",
    "version": 2
   },
   "file_extension": ".py",
   "mimetype": "text/x-python",
   "name": "python",
   "nbconvert_exporter": "python",
   "pygments_lexer": "ipython2",
   "version": "2.7.15"
  }
 },
 "nbformat": 4,
 "nbformat_minor": 2
}
