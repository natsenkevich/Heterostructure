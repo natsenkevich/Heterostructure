{
 "cells": [
  {
   "cell_type": "code",
   "execution_count": 14,
   "metadata": {},
   "outputs": [],
   "source": [
    "from scipy import integrate\n",
    "import numpy as np\n",
    "import math as m\n",
    "from scipy.interpolate import interp1d\n",
    "from scipy import integrate\n",
    "import matplotlib.pyplot as plt\n",
    "\n",
    "r=np.load('MoS2_alone_r.npy')\n",
    "rx=r\n",
    "ry=r\n",
    "W_ee=np.load('MoS2_alone_W_ee.npy')\n",
    "W_eh=np.load('MoS2_alone_W_eh.npy')"
   ]
  },
  {
   "cell_type": "code",
   "execution_count": 15,
   "metadata": {},
   "outputs": [],
   "source": [
    "from scipy.integrate import quad\n",
    "\n",
    "def wavefunc(x,y,aa,bb):\n",
    "    return 1/np.sqrt(2)*(2*np.exp(-x/aa)/(aa**2*np.pi)*np.exp(-y/bb)/(bb**2)+\n",
    "                      2*np.exp(-y/aa)/(aa**2*np.pi)*np.exp(-x/bb)/(bb**2))"
   ]
  },
  {
   "cell_type": "code",
   "execution_count": 16,
   "metadata": {},
   "outputs": [
    {
     "data": {
      "text/plain": [
       "[<matplotlib.lines.Line2D at 0x7f60f945ae80>]"
      ]
     },
     "execution_count": 16,
     "metadata": {},
     "output_type": "execute_result"
    },
    {
     "data": {
      "image/png": "[encoded data removed]",
      "text/plain": [
       "<Figure size 432x288 with 1 Axes>"
      ]
     },
     "metadata": {
      "needs_background": "light"
     },
     "output_type": "display_data"
    }
   ],
   "source": [
    "Wee = interp1d(r,W_ee,kind='linear')\n",
    "plt.plot(r,Wee(r))\n",
    "plt.plot(r,W_ee,'k.')"
   ]
  },
  {
   "cell_type": "code",
   "execution_count": 17,
   "metadata": {},
   "outputs": [
    {
     "data": {
      "text/plain": [
       "[<matplotlib.lines.Line2D at 0x7f60f944d240>]"
      ]
     },
     "execution_count": 17,
     "metadata": {},
     "output_type": "execute_result"
    },
    {
     "data": {
      "image/png": "[encoded data removed]",
      "text/plain": [
       "<Figure size 432x288 with 1 Axes>"
      ]
     },
     "metadata": {
      "needs_background": "light"
     },
     "output_type": "display_data"
    }
   ],
   "source": [
    "Weh = interp1d(r,W_eh,kind='linear')\n",
    "plt.plot(r,Weh(r))\n",
    "plt.plot(r,W_eh,'k.')"
   ]
  },
  {
   "cell_type": "code",
   "execution_count": 18,
   "metadata": {},
   "outputs": [],
   "source": [
    "def integrand11(rx,ry,a,b):\n",
    "    return 27.21*rx*ry*wavefunc(rx,ry,a,b)**2*Weh(rx)"
   ]
  },
  {
   "cell_type": "code",
   "execution_count": 19,
   "metadata": {},
   "outputs": [],
   "source": [
    "def V11(ry,aa,bb):    \n",
    "    return 2*np.pi*integrate.quad(integrand11, rx[0], rx[-1],\n",
    "                                    args=(ry,aa,bb), limit=200)[0]"
   ]
  },
  {
   "cell_type": "code",
   "execution_count": 20,
   "metadata": {},
   "outputs": [],
   "source": [
    "def V22(aa,bb):    \n",
    "    return 2*np.pi*integrate.quad(V11, ry[0], ry[-1],\n",
    "                                    args=(aa,bb), limit=200)[0]"
   ]
  },
  {
   "cell_type": "code",
   "execution_count": 21,
   "metadata": {},
   "outputs": [],
   "source": [
    "def integrand22(rx,ry,a,b):\n",
    "    if abs(rx-ry)<0.1: return 0\n",
    "    else:\n",
    "        return 27.21*rx*wavefunc(rx,ry,a,b)**2*Wee(abs(ry-rx))"
   ]
  },
  {
   "cell_type": "code",
   "execution_count": 22,
   "metadata": {},
   "outputs": [],
   "source": [
    "def V33(ry,aa,bb):    \n",
    "    return 2*np.pi*ry*integrate.quad(integrand22, rx[0], rx[-1],\n",
    "                                    args=(ry,aa,bb), limit=200)[0]"
   ]
  },
  {
   "cell_type": "code",
   "execution_count": 23,
   "metadata": {},
   "outputs": [],
   "source": [
    "def V44(aa,bb):    \n",
    "    return 2*np.pi*integrate.quad(V33, ry[0], ry[-1],\n",
    "                                    args=(aa,bb), limit=200)[0]"
   ]
  },
  {
   "cell_type": "code",
   "execution_count": 24,
   "metadata": {},
   "outputs": [],
   "source": [
    "from ase.units import Bohr, Hartree\n",
    "\n",
    "eff_mass=0.277\n",
    "\n",
    "def K11(a,b):\n",
    "     return Hartree*(1/(2*a**2)+1/(2*b**2)+8*(a**2+b**2)/(a+b)**4)/eff_mass"
   ]
  },
  {
   "cell_type": "code",
   "execution_count": 25,
   "metadata": {},
   "outputs": [],
   "source": [
    "x=np.zeros(2)\n",
    "\n",
    "def gs(x):\n",
    "    return K11(x[0],x[1])+2*V22(x[0],x[1])+V44(x[0],x[1])"
   ]
  },
  {
   "cell_type": "code",
   "execution_count": 26,
   "metadata": {},
   "outputs": [
    {
     "name": "stderr",
     "output_type": "stream",
     "text": [
      "/home/natasha/anaconda3/envs/mypy3/lib/python3.7/site-packages/ipykernel_launcher.py:3: IntegrationWarning: The occurrence of roundoff error is detected, which prevents \n",
      "  the requested tolerance from being achieved.  The error may be \n",
      "  underestimated.\n",
      "  This is separate from the ipykernel package so we can avoid doing imports until\n",
      "/home/natasha/anaconda3/envs/mypy3/lib/python3.7/site-packages/ipykernel_launcher.py:3: IntegrationWarning: The algorithm does not converge.  Roundoff error is detected\n",
      "  in the extrapolation table.  It is assumed that the requested tolerance\n",
      "  cannot be achieved, and that the returned result (if full_output = 1) is \n",
      "  the best which can be obtained.\n",
      "  This is separate from the ipykernel package so we can avoid doing imports until\n",
      "/home/natasha/anaconda3/envs/mypy3/lib/python3.7/site-packages/ipykernel_launcher.py:3: IntegrationWarning: The maximum number of subdivisions (200) has been achieved.\n",
      "  If increasing the limit yields no improvement it is advised to analyze \n",
      "  the integrand in order to determine the difficulties.  If the position of a \n",
      "  local difficulty can be determined (singularity, discontinuity) one will \n",
      "  probably gain from splitting up the interval and calling the integrator \n",
      "  on the subranges.  Perhaps a special-purpose integrator should be used.\n",
      "  This is separate from the ipykernel package so we can avoid doing imports until\n"
     ]
    },
    {
     "data": {
      "text/plain": [
       "      fun: 0.00209740642496652\n",
       " hess_inv: array([[2214975.70516697, 2219712.13197085],\n",
       "       [2219712.13197085, 2224460.69077129]])\n",
       "      jac: array([-6.86736894e-06, -6.83841063e-06])\n",
       "  message: 'Optimization terminated successfully.'\n",
       "     nfev: 112\n",
       "      nit: 27\n",
       "     njev: 28\n",
       "   status: 0\n",
       "  success: True\n",
       "        x: array([305.73881806, 306.3854919 ])"
      ]
     },
     "execution_count": 26,
     "metadata": {},
     "output_type": "execute_result"
    }
   ],
   "source": [
    "from scipy.optimize import minimize\n",
    "\n",
    "value_min = minimize(gs, [1, 1])\n",
    "\n",
    "value_min"
   ]
  }
 ],
 "metadata": {
  "kernelspec": {
   "display_name": "Python 3",
   "language": "python",
   "name": "python3"
  },
  "language_info": {
   "codemirror_mode": {
    "name": "ipython",
    "version": 3
   },
   "file_extension": ".py",
   "mimetype": "text/x-python",
   "name": "python",
   "nbconvert_exporter": "python",
   "pygments_lexer": "ipython3",
   "version": "3.7.2"
  }
 },
 "nbformat": 4,
 "nbformat_minor": 2
}
