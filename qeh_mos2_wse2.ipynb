{
 "cells": [
  {
   "cell_type": "code",
   "execution_count": 17,
   "metadata": {},
   "outputs": [],
   "source": [
    "from scipy import integrate\n",
    "import numpy as np\n",
    "import sympy as sym\n",
    "import math as m\n",
    "from scipy.interpolate import interp1d\n",
    "from scipy import integrate\n",
    "import matplotlib.pyplot as plt\n",
    "#@matplotlib inline\n",
    "\n",
    "r=np.load('rrr.npy') #ангстрем\n",
    "W12_r=np.load('W12_r.npy') #На\n",
    "W21_r=np.load('W21_r.npy')\n",
    "W11_r=np.load('MoS2_W_r.npy')\n",
    "W22_r=np.load('WSe2_W_r.npy')"
   ]
  },
  {
   "cell_type": "code",
   "execution_count": 18,
   "metadata": {},
   "outputs": [],
   "source": [
    "from scipy.integrate import quad\n",
    "\n",
    "#квадрат волновой функции\n",
    "def wavefunc(x,aa):\n",
    "    return 4*np.exp(-2*x/aa)/(aa**2*2*np.pi)"
   ]
  },
  {
   "cell_type": "code",
   "execution_count": 19,
   "metadata": {},
   "outputs": [],
   "source": [
    "W12r = interp1d(r,W12_r,kind='linear')\n",
    "\n",
    "def integrand12(rr,a):\n",
    "    return 27.21*rr*wavefunc(rr,a)*W12r(rr)\n",
    "    \n",
    "def V12(a):    \n",
    "    return 2*np.pi*integrate.quad(integrand12, r[0], r[-1], args=(a,), limit=200)[0]"
   ]
  },
  {
   "cell_type": "code",
   "execution_count": 20,
   "metadata": {},
   "outputs": [],
   "source": [
    "W21r = interp1d(r,W21_r,kind='linear')\n",
    "\n",
    "def integrand21(rr,a):\n",
    "    return 27.21*rr*wavefunc(rr,a)*W21r(rr)\n",
    "    \n",
    "def V21(a):    \n",
    "    return 2*np.pi*integrate.quad(integrand21, r[0], r[-1], args=(a,), limit=200)[0]"
   ]
  },
  {
   "cell_type": "code",
   "execution_count": 21,
   "metadata": {},
   "outputs": [],
   "source": [
    "W11r = interp1d(r,W11_r,kind='linear')\n",
    "\n",
    "def integrand11(rr,a):\n",
    "    return 27.21*rr*wavefunc(rr,a)*W11r(rr)\n",
    "    \n",
    "def V11(a):    \n",
    "    return 2*np.pi*integrate.quad(integrand11, r[0], r[-1], args=(a,), limit=200)[0]"
   ]
  },
  {
   "cell_type": "code",
   "execution_count": 22,
   "metadata": {},
   "outputs": [],
   "source": [
    "W22r = interp1d(r,W22_r,kind='linear')\n",
    "\n",
    "def integrand22(rr,a):\n",
    "    return 27.21*rr*wavefunc(rr,a)*W22r(rr)\n",
    "    \n",
    "def V22(a):    \n",
    "    return 2*np.pi*integrate.quad(integrand22, r[0], r[-1], args=(a,), limit=200)[0]"
   ]
  },
  {
   "cell_type": "code",
   "execution_count": 42,
   "metadata": {},
   "outputs": [],
   "source": [
    "from ase.units import Bohr, Hartree\n",
    "\n",
    "th=0.2341 #eV\n",
    "te=0\n",
    "#th=0\n",
    "Vek=0.31  #eV\n",
    "Vhg=0.16\n",
    "\n",
    "m1e=0.55\n",
    "m1h=0.56\n",
    "m1h_l=2.1\n",
    "m2e=0.48\n",
    "m2h=0.44\n",
    "m2h_l=3.3\n",
    "\n",
    "mu11=m1e*m1h/(m1e+m1h)\n",
    "mu12=m1e*m1h_l/(m1e+m1h_l)\n",
    "mu21=m2e*m2h_l/(m2e+m2h_l)\n",
    "mu22=m2e*m2h/(m2e+m2h)\n",
    "#mu12=m1e*m2h/(m1e+m2h)\n",
    "#mu21=m2e*m1h/(m2e+m1h)\n",
    "mu1=0.277\n",
    "mu2=0.23\n",
    "mu3=0.244\n",
    "\n",
    "def K11(a):\n",
    "    return Hartree/((Bohr**2)*(2*mu1*a**2))\n",
    "\n",
    "def K12(a):\n",
    "    return Hartree/((Bohr**2)*(2*mu3*a**2))\n",
    "\n",
    "def K21(a):\n",
    "    return Hartree/((Bohr**2)*(2*mu3*a**2))\n",
    "\n",
    "def K22(a):\n",
    "    return Hartree/((Bohr**2)*(2*mu2*a**2))"
   ]
  },
  {
   "cell_type": "code",
   "execution_count": 43,
   "metadata": {},
   "outputs": [],
   "source": [
    "@np.vectorize\n",
    "def gs(a):\n",
    "    H11=K11(a)+V11(a)+Vhg\n",
    "    H12=K12(a)+V12(a)\n",
    "    H21=K21(a)+V21(a)+Vek+Vhg\n",
    "    H22=K22(a)+V22(a)+Vek\n",
    "    H=np.array( [[H11, th, te, 0], [th, H12, 0, te], [te, 0, H21, th], [0, te, th, H22]] )\n",
    "    #gse = min(np.linalg.eigvals(H))\n",
    "    gse = np.linalg.eigvals(H)\n",
    "    VAL=gse[0]\n",
    "    return VAL"
   ]
  },
  {
   "cell_type": "code",
   "execution_count": 44,
   "metadata": {},
   "outputs": [
    {
     "data": {
      "text/plain": [
       "      fun: -0.28020389681520663\n",
       " hess_inv: array([[413.73650855]])\n",
       "      jac: array([-0.01580601])\n",
       "  message: 'Desired error not necessarily achieved due to precision loss.'\n",
       "     nfev: 289\n",
       "      nit: 13\n",
       "     njev: 93\n",
       "   status: 2\n",
       "  success: False\n",
       "        x: array([25.44316368])"
      ]
     },
     "execution_count": 44,
     "metadata": {},
     "output_type": "execute_result"
    }
   ],
   "source": [
    "from scipy import optimize\n",
    "\n",
    "value_min = optimize.minimize(gs, [2])\n",
    "\n",
    "value_min"
   ]
  },
  {
   "cell_type": "code",
   "execution_count": null,
   "metadata": {},
   "outputs": [],
   "source": []
  }
 ],
 "metadata": {
  "kernelspec": {
   "display_name": "Python 2",
   "language": "python",
   "name": "python2"
  },
  "language_info": {
   "codemirror_mode": {
    "name": "ipython",
    "version": 2
   },
   "file_extension": ".py",
   "mimetype": "text/x-python",
   "name": "python",
   "nbconvert_exporter": "python",
   "pygments_lexer": "ipython2",
   "version": "2.7.15"
  }
 },
 "nbformat": 4,
 "nbformat_minor": 2
}
