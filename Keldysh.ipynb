{
 "cells": [
  {
   "cell_type": "code",
   "execution_count": 91,
   "metadata": {},
   "outputs": [],
   "source": [
    "import numpy as np\n",
    "import matplotlib.pyplot as plt\n",
    "from scipy.special import struve,yn\n",
    "from scipy.integrate import quad,nquad\n",
    "import numba\n",
    "from ase.units import Hartree,Bohr\n",
    "%matplotlib inline"
   ]
  },
  {
   "cell_type": "code",
   "execution_count": 116,
   "metadata": {},
   "outputs": [],
   "source": [
    "@numba.jit(nopython=True)\n",
    "def wave_exciton(x,a):\n",
    "    return np.sqrt(2/(np.pi*a**2))*np.exp(-x/a)\n",
    "\n",
    "@numba.jit(nopython=True)\n",
    "def wave_trion(x,y,a,b):\n",
    "    Norm=np.sqrt(1+16*a**2*b**2/(a+b)**4)\n",
    "    wave=wave_exciton(x,a)*wave_exciton(y,b)\n",
    "    wave+=wave_exciton(x,b)*wave_exciton(y,a)\n",
    "    wave/=np.sqrt(2)\n",
    "    wave/=Norm\n",
    "    return wave"
   ]
  },
  {
   "cell_type": "code",
   "execution_count": 81,
   "metadata": {},
   "outputs": [],
   "source": [
    "x_max=100\n",
    "y_max=100\n",
    "\n",
    "x_min=0.01\n",
    "y_min=0.01"
   ]
  },
  {
   "cell_type": "code",
   "execution_count": 125,
   "metadata": {},
   "outputs": [],
   "source": [
    "def Keldysh_art(r):\n",
    " #   if r==0:return 0\n",
    "    r0=2*np.pi*10\n",
    "    return -np.pi/(2*r0)*(struve(0,r/r0)-yn(0,r/r0))"
   ]
  },
  {
   "cell_type": "code",
   "execution_count": 117,
   "metadata": {},
   "outputs": [],
   "source": [
    "def integrand_V1_art(rx,ry,a,b):\n",
    "    return Hartree*rx*ry*wave_trion(rx,ry,a,b)**2*Keldysh_art(rx)\n",
    "\n",
    "def V1_art(a,b):\n",
    "    return (2*np.pi)**2*nquad(integrand_V1_art,[[x_min,x_max],[y_min,y_max]],\n",
    "                                        args=(a,b),opts={'limit':200})[0]\n",
    "\n",
    "def integrand_V2_art(rx,ry,a,b):\n",
    "    def Keldysh_radial(phi):\n",
    "        r_new=np.sqrt(rx**2+ry**2-2*rx*ry*np.cos(phi))\n",
    "        return Keldysh_art(r_new)\n",
    "    return Hartree*rx*ry*wave_trion(rx,ry,a,b)**2*quad(Keldysh_radial, 0, 2*np.pi, limit=200)[0]\n",
    "                                                           \n",
    "def V2_art(a,b):\n",
    "    return 2*np.pi*nquad(integrand_V2_art,[[x_min,x_max],[y_min,y_max]],\n",
    "                                        args=(a,b),opts={'limit':200})[0]\n",
    "\n",
    "def K1(a,b):\n",
    "    eff_mass=0.277\n",
    "    Norm=1+16*a**2*b**2/(a+b)**4\n",
    "    return Hartree*(1/(2*a**2)+1/(2*b**2)+8*(a**2+b**2)/(a+b)**4)/eff_mass/Norm\n",
    "\n",
    "def K2(a,b):\n",
    "    Norm=1+16*a**2*b**2/(a+b)**4\n",
    "    mh=0.56\n",
    "    return Hartree/(2*a*b*mh)/Norm"
   ]
  },
  {
   "cell_type": "code",
   "execution_count": 118,
   "metadata": {},
   "outputs": [
    {
     "data": {
      "text/plain": [
       "0.9823605062948463"
      ]
     },
     "execution_count": 118,
     "metadata": {},
     "output_type": "execute_result"
    }
   ],
   "source": [
    "K1(10,10)"
   ]
  },
  {
   "cell_type": "code",
   "execution_count": 119,
   "metadata": {},
   "outputs": [
    {
     "data": {
      "text/plain": [
       "-1.0218330266223368"
      ]
     },
     "execution_count": 119,
     "metadata": {},
     "output_type": "execute_result"
    }
   ],
   "source": [
    "V1_art(10,10)"
   ]
  },
  {
   "cell_type": "code",
   "execution_count": 120,
   "metadata": {},
   "outputs": [
    {
     "data": {
      "text/plain": [
       "-0.854182205627431"
      ]
     },
     "execution_count": 120,
     "metadata": {},
     "output_type": "execute_result"
    }
   ],
   "source": [
    "V2_art(10,10)"
   ]
  },
  {
   "cell_type": "code",
   "execution_count": 121,
   "metadata": {},
   "outputs": [],
   "source": [
    "x=np.zeros(2)\n",
    "def Energy_art(x):\n",
    "    return -K1(x[0],x[1])-2*V1_art(x[0],x[1])+V2_art(x[0],x[1])"
   ]
  },
  {
   "cell_type": "code",
   "execution_count": 123,
   "metadata": {},
   "outputs": [
    {
     "data": {
      "text/plain": [
       "0.4886008635483635"
      ]
     },
     "execution_count": 123,
     "metadata": {},
     "output_type": "execute_result"
    }
   ],
   "source": [
    "Energy_art([10,25])"
   ]
  },
  {
   "cell_type": "code",
   "execution_count": 126,
   "metadata": {},
   "outputs": [
    {
     "name": "stderr",
     "output_type": "stream",
     "text": [
      "/home/drg/.local/lib/python3.6/site-packages/ipykernel_launcher.py:3: RuntimeWarning: invalid value encountered in double_scalars\n",
      "  This is separate from the ipykernel package so we can avoid doing imports until\n"
     ]
    },
    {
     "data": {
      "text/plain": [
       "      fun: nan\n",
       " hess_inv: <2x2 LbfgsInvHessProduct with dtype=float64>\n",
       "      jac: array([0.0697198 , 0.00235378])\n",
       "  message: b'ABNORMAL_TERMINATION_IN_LNSRCH'\n",
       "     nfev: 66\n",
       "      nit: 1\n",
       "   status: 2\n",
       "  success: False\n",
       "        x: array([ 9.93201715, 24.99767254])"
      ]
     },
     "execution_count": 126,
     "metadata": {},
     "output_type": "execute_result"
    }
   ],
   "source": [
    "from scipy.optimize import minimize\n",
    "\n",
    "value_min = minimize(Energy_art, [10, 25],bounds=[(0,30),(0,40)],method='L-BFGS-B',options={'disp':1})\n",
    "\n",
    "value_min"
   ]
  },
  {
   "cell_type": "code",
   "execution_count": 107,
   "metadata": {},
   "outputs": [],
   "source": [
    "def K_ex(a):\n",
    "    return Hartree/(2*0.277*a**2)\n",
    "\n",
    "def integrand_V1_ex(r,a):\n",
    "    return Hartree*r*wave_exciton(r,a)**2*Keldysh_art(r)\n",
    "\n",
    "def V1_ex(a):\n",
    "    return 2*np.pi*integrate.quad(integrand_V1_ex, x_min, x_max, args=(a,), limit=200)[0]\n",
    "\n",
    "def gs(a):\n",
    "    return K_ex(a)-V1_ex(a)\n"
   ]
  },
  {
   "cell_type": "code",
   "execution_count": 110,
   "metadata": {},
   "outputs": [
    {
     "data": {
      "text/plain": [
       "      fun: -0.884612319339793\n",
       " hess_inv: array([[196.56420626]])\n",
       "      jac: array([-1.25169754e-06])\n",
       "  message: 'Optimization terminated successfully.'\n",
       "     nfev: 45\n",
       "      nit: 14\n",
       "     njev: 15\n",
       "   status: 0\n",
       "  success: True\n",
       "        x: array([13.76240439])"
      ]
     },
     "execution_count": 110,
     "metadata": {},
     "output_type": "execute_result"
    }
   ],
   "source": [
    "from scipy import optimize\n",
    "\n",
    "value_min = optimize.minimize(gs, [2])\n",
    "\n",
    "value_min"
   ]
  },
  {
   "cell_type": "code",
   "execution_count": null,
   "metadata": {},
   "outputs": [],
   "source": []
  }
 ],
 "metadata": {
  "kernelspec": {
   "display_name": "Python 3",
   "language": "python",
   "name": "python3"
  },
  "language_info": {
   "codemirror_mode": {
    "name": "ipython",
    "version": 3
   },
   "file_extension": ".py",
   "mimetype": "text/x-python",
   "name": "python",
   "nbconvert_exporter": "python",
   "pygments_lexer": "ipython3",
   "version": "3.7.2"
  }
 },
 "nbformat": 4,
 "nbformat_minor": 2
}
