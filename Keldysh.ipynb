{
 "cells": [
  {
   "cell_type": "code",
   "execution_count": 12,
   "metadata": {},
   "outputs": [],
   "source": [
    "import numpy as np\n",
    "import matplotlib.pyplot as plt\n",
    "from scipy.special import struve,yn\n",
    "from scipy.integrate import quad,nquad\n",
    "#import numba\n",
    "from ase.units import Hartree,Bohr\n",
    "%matplotlib inline"
   ]
  },
  {
   "cell_type": "code",
   "execution_count": 13,
   "metadata": {},
   "outputs": [],
   "source": [
    "#@numba.jit(nopython=True)\n",
    "def wave_exciton(x,a):\n",
    "    return np.sqrt(2/(np.pi*a**2))*np.exp(-x/a)\n",
    "\n",
    "#@numba.jit(nopython=True)\n",
    "def wave_trion(x,y,a,b):\n",
    "    Norm=np.sqrt(1+16*a**2*b**2/(a+b)**4)\n",
    "    wave=wave_exciton(x,a)*wave_exciton(y,b)\n",
    "    wave+=wave_exciton(x,b)*wave_exciton(y,a)\n",
    "    wave/=np.sqrt(2)\n",
    "    wave/=Norm\n",
    "    return wave"
   ]
  },
  {
   "cell_type": "code",
   "execution_count": 14,
   "metadata": {},
   "outputs": [],
   "source": [
    "x_max=100\n",
    "y_max=100\n",
    "\n",
    "x_min=0.01\n",
    "y_min=0.01"
   ]
  },
  {
   "cell_type": "code",
   "execution_count": 164,
   "metadata": {},
   "outputs": [],
   "source": [
    "r=np.load('MoS2_alone_r.npy')\n",
    "W_eh=np.load('MoS2_alone_W_eh.npy')"
   ]
  },
  {
   "cell_type": "code",
   "execution_count": 165,
   "metadata": {},
   "outputs": [],
   "source": [
    "def Keldysh_art(r):\n",
    "    #if r==0: return 0\n",
    "    r0=2*np.pi*6.6\n",
    "    return np.pi/(4*r0)*(struve(0,r/r0)-yn(0,r/r0))"
   ]
  },
  {
   "cell_type": "code",
   "execution_count": 166,
   "metadata": {},
   "outputs": [
    {
     "data": {
      "image/png": "[encoded data removed]",
      "text/plain": [
       "<Figure size 432x288 with 1 Axes>"
      ]
     },
     "metadata": {
      "needs_background": "light"
     },
     "output_type": "display_data"
    }
   ],
   "source": [
    "fig, ax = plt.subplots()\n",
    "\n",
    "ax.plot(r, W_eh)\n",
    "\n",
    "ax.plot(r, Keldysh_art(r))\n",
    "\n",
    "plt.show()"
   ]
  },
  {
   "cell_type": "code",
   "execution_count": 183,
   "metadata": {},
   "outputs": [],
   "source": [
    "def integrand_V1_art(rx,ry,a,b):\n",
    "    return Hartree*rx*ry*wave_trion(rx,ry,a,b)**2*Keldysh_art(rx)\n",
    "\n",
    "def V1_art(a,b):\n",
    "    return (2*np.pi)**2*nquad(integrand_V1_art,[[x_min,x_max],[y_min,y_max]],\n",
    "                                        args=(a,b),opts={'limit':200})[0]\n",
    "\n",
    "def integrand_V3_art(rx,ry,a,b):\n",
    "    return Hartree*rx*ry*wave_trion(rx,ry,a,b)**2*Keldysh_art(ry)\n",
    "\n",
    "def V3_art(a,b):\n",
    "    return (2*np.pi)**2*nquad(integrand_V3_art,[[x_min,x_max],[y_min,y_max]],\n",
    "                                        args=(a,b),opts={'limit':200})[0]\n",
    "\n",
    "# def integrand_V2_art(rx,ry,a,b):\n",
    "#     def Keldysh_radial(phi):\n",
    "#         r_new=np.sqrt(rx**2+ry**2-2*rx*ry*np.cos(phi))\n",
    "#         return Keldysh_art(r_new)\n",
    "#     return Hartree*rx*ry*wave_trion(rx,ry,a,b)**2*quad(Keldysh_radial, 0, 2*np.pi, limit=200)[0]\n",
    "\n",
    "def Keldysh_radial(phi,rx,ry,a,b):\n",
    "    r_new=np.sqrt(rx**2+ry**2-2*rx*ry*np.cos(phi))\n",
    "    return Keldysh_art(r_new)\n",
    "    \n",
    "def integrand_V2_art(rx,ry,a,b):\n",
    "    return Hartree*rx*ry*wave_trion(rx,ry,a,b)**2*quad(Keldysh_radial,0, 2*np.pi, args=(rx,ry,a,b), limit=200)[0]\n",
    "\n",
    "                                                           \n",
    "def V2_art(a,b):\n",
    "    return 2*np.pi*nquad(integrand_V2_art,[[x_min,x_max],[y_min,y_max]],\n",
    "                                       args=(a,b),opts={'limit':200})[0]\n",
    "\n",
    "#def K1(a,b):\n",
    "  #  eff_mass=0.277\n",
    "  #  Norm=1+16*a**2*b**2/(a+b)**4\n",
    "   # return Hartree*Bohr**2*(1/(2*a**2)+1/(2*b**2)+8*(a**2+b**2)/(a+b)**4)/eff_mass/Norm\n",
    "\n",
    "def K1(a,b):\n",
    "    eff_mass=0.277\n",
    "    Norm=1+16*a**2*b**2/(a+b)**4\n",
    "    return Hartree*Bohr**2*(-1/(2*a**2)-1/(2*b**2)-16*(a*b)/(a+b)**4)/eff_mass/Norm"
   ]
  },
  {
   "cell_type": "code",
   "execution_count": 182,
   "metadata": {},
   "outputs": [],
   "source": [
    "x=np.zeros(2)\n",
    "def Energy_art(x):\n",
    "    return -K1(x[0],x[1])-V1_art(x[0],x[1])-V3_art(x[0],x[1])+V2_art(x[0],x[1])"
   ]
  },
  {
   "cell_type": "code",
   "execution_count": 184,
   "metadata": {},
   "outputs": [
    {
     "data": {
      "text/plain": [
       "      fun: -0.5431032993956847\n",
       " hess_inv: <2x2 LbfgsInvHessProduct with dtype=float64>\n",
       "      jac: array([-9.64783808e-06,  2.23154828e-06])\n",
       "  message: b'CONVERGENCE: NORM_OF_PROJECTED_GRADIENT_<=_PGTOL'\n",
       "     nfev: 36\n",
       "      nit: 5\n",
       "   status: 0\n",
       "  success: True\n",
       "        x: array([10.24245158, 22.28052178])"
      ]
     },
     "execution_count": 184,
     "metadata": {},
     "output_type": "execute_result"
    }
   ],
   "source": [
    "from scipy.optimize import minimize\n",
    "\n",
    "value_min = minimize(Energy_art, [10, 25],bounds=[(5,50),(5,50)],method='L-BFGS-B',options={'disp':1})\n",
    "\n",
    "value_min"
   ]
  },
  {
   "cell_type": "code",
   "execution_count": 9,
   "metadata": {},
   "outputs": [],
   "source": [
    "def Keldysh_art(r):\n",
    "    #if r==0: return 0\n",
    "    r0=2*np.pi*6.6\n",
    "    return np.pi/(4*r0)*(struve(0,r/r0)-yn(0,r/r0))\n",
    "\n",
    "def K_ex(a):\n",
    "    return Hartree*Bohr**2/(2*0.277*a**2)\n",
    "\n",
    "def integrand_V1_ex(r,a):\n",
    "    return Hartree*r*wave_exciton(r,a)**2*Keldysh_art(r)\n",
    "\n",
    "def V1_ex(a):\n",
    "    return 2*np.pi*quad(integrand_V1_ex, x_min, x_max, args=(a,), limit=200)[0]\n",
    "\n",
    "def gs(a):\n",
    "    return K_ex(a)-V1_ex(a)\n"
   ]
  },
  {
   "cell_type": "code",
   "execution_count": 10,
   "metadata": {},
   "outputs": [
    {
     "data": {
      "text/plain": [
       "0.1375444794305735"
      ]
     },
     "execution_count": 10,
     "metadata": {},
     "output_type": "execute_result"
    }
   ],
   "source": [
    "K_ex(10)"
   ]
  },
  {
   "cell_type": "code",
   "execution_count": 15,
   "metadata": {},
   "outputs": [
    {
     "data": {
      "text/plain": [
       "0.6571380822871462"
      ]
     },
     "execution_count": 15,
     "metadata": {},
     "output_type": "execute_result"
    }
   ],
   "source": [
    "V1_ex(10)"
   ]
  },
  {
   "cell_type": "code",
   "execution_count": 16,
   "metadata": {},
   "outputs": [
    {
     "data": {
      "text/plain": [
       "      fun: -0.5195956525594564\n",
       " hess_inv: array([[190.03772219]])\n",
       "      jac: array([-3.93390656e-06])\n",
       "  message: 'Optimization terminated successfully.'\n",
       "     nfev: 39\n",
       "      nit: 12\n",
       "     njev: 13\n",
       "   status: 0\n",
       "  success: True\n",
       "        x: array([10.02770703])"
      ]
     },
     "execution_count": 16,
     "metadata": {},
     "output_type": "execute_result"
    }
   ],
   "source": [
    "from scipy import optimize\n",
    "\n",
    "value_min = optimize.minimize(gs, [2])\n",
    "\n",
    "value_min"
   ]
  },
  {
   "cell_type": "code",
   "execution_count": null,
   "metadata": {},
   "outputs": [],
   "source": []
  }
 ],
 "metadata": {
  "kernelspec": {
   "display_name": "Python 3",
   "language": "python",
   "name": "python3"
  },
  "language_info": {
   "codemirror_mode": {
    "name": "ipython",
    "version": 3
   },
   "file_extension": ".py",
   "mimetype": "text/x-python",
   "name": "python",
   "nbconvert_exporter": "python",
   "pygments_lexer": "ipython3",
   "version": "3.7.2"
  }
 },
 "nbformat": 4,
 "nbformat_minor": 2
}
